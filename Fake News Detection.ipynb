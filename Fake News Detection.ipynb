{
 "cells": [
  {
   "cell_type": "code",
   "execution_count": 5,
   "metadata": {},
   "outputs": [],
   "source": [
    "import numpy as np\n",
    "import pandas as pd\n",
    "import itertools\n",
    "from sklearn.model_selection import train_test_split\n",
    "from sklearn.feature_extraction.text import TfidfVectorizer\n",
    "from sklearn.linear_model import PassiveAggressiveClassifier\n",
    "import matplotlib.pyplot as plt\n",
    "from sklearn.metrics import accuracy_score, confusion_matrix"
   ]
  },
  {
   "cell_type": "markdown",
   "metadata": {},
   "source": [
    "### Read Data"
   ]
  },
  {
   "cell_type": "code",
   "execution_count": 6,
   "metadata": {
    "scrolled": true
   },
   "outputs": [],
   "source": [
    "df = pd.read_csv('news.csv')"
   ]
  },
  {
   "cell_type": "code",
   "execution_count": 7,
   "metadata": {},
   "outputs": [
    {
     "data": {
      "text/plain": [
       "(6335, 4)"
      ]
     },
     "execution_count": 7,
     "metadata": {},
     "output_type": "execute_result"
    }
   ],
   "source": [
    "df.shape"
   ]
  },
  {
   "cell_type": "markdown",
   "metadata": {},
   "source": [
    "### Show Data\n"
   ]
  },
  {
   "cell_type": "code",
   "execution_count": 8,
   "metadata": {},
   "outputs": [
    {
     "data": {
      "text/html": [
       "<div>\n",
       "<style scoped>\n",
       "    .dataframe tbody tr th:only-of-type {\n",
       "        vertical-align: middle;\n",
       "    }\n",
       "\n",
       "    .dataframe tbody tr th {\n",
       "        vertical-align: top;\n",
       "    }\n",
       "\n",
       "    .dataframe thead th {\n",
       "        text-align: right;\n",
       "    }\n",
       "</style>\n",
       "<table border=\"1\" class=\"dataframe\">\n",
       "  <thead>\n",
       "    <tr style=\"text-align: right;\">\n",
       "      <th></th>\n",
       "      <th>Unnamed: 0</th>\n",
       "      <th>title</th>\n",
       "      <th>text</th>\n",
       "      <th>label</th>\n",
       "    </tr>\n",
       "  </thead>\n",
       "  <tbody>\n",
       "    <tr>\n",
       "      <th>0</th>\n",
       "      <td>8476</td>\n",
       "      <td>You Can Smell Hillary’s Fear</td>\n",
       "      <td>Daniel Greenfield, a Shillman Journalism Fello...</td>\n",
       "      <td>FAKE</td>\n",
       "    </tr>\n",
       "    <tr>\n",
       "      <th>1</th>\n",
       "      <td>10294</td>\n",
       "      <td>Watch The Exact Moment Paul Ryan Committed Pol...</td>\n",
       "      <td>Google Pinterest Digg Linkedin Reddit Stumbleu...</td>\n",
       "      <td>FAKE</td>\n",
       "    </tr>\n",
       "    <tr>\n",
       "      <th>2</th>\n",
       "      <td>3608</td>\n",
       "      <td>Kerry to go to Paris in gesture of sympathy</td>\n",
       "      <td>U.S. Secretary of State John F. Kerry said Mon...</td>\n",
       "      <td>REAL</td>\n",
       "    </tr>\n",
       "    <tr>\n",
       "      <th>3</th>\n",
       "      <td>10142</td>\n",
       "      <td>Bernie supporters on Twitter erupt in anger ag...</td>\n",
       "      <td>— Kaydee King (@KaydeeKing) November 9, 2016 T...</td>\n",
       "      <td>FAKE</td>\n",
       "    </tr>\n",
       "    <tr>\n",
       "      <th>4</th>\n",
       "      <td>875</td>\n",
       "      <td>The Battle of New York: Why This Primary Matters</td>\n",
       "      <td>It's primary day in New York and front-runners...</td>\n",
       "      <td>REAL</td>\n",
       "    </tr>\n",
       "    <tr>\n",
       "      <th>5</th>\n",
       "      <td>6903</td>\n",
       "      <td>Tehran, USA</td>\n",
       "      <td>\\nI’m not an immigrant, but my grandparents ...</td>\n",
       "      <td>FAKE</td>\n",
       "    </tr>\n",
       "    <tr>\n",
       "      <th>6</th>\n",
       "      <td>7341</td>\n",
       "      <td>Girl Horrified At What She Watches Boyfriend D...</td>\n",
       "      <td>Share This Baylee Luciani (left), Screenshot o...</td>\n",
       "      <td>FAKE</td>\n",
       "    </tr>\n",
       "    <tr>\n",
       "      <th>7</th>\n",
       "      <td>95</td>\n",
       "      <td>‘Britain’s Schindler’ Dies at 106</td>\n",
       "      <td>A Czech stockbroker who saved more than 650 Je...</td>\n",
       "      <td>REAL</td>\n",
       "    </tr>\n",
       "    <tr>\n",
       "      <th>8</th>\n",
       "      <td>4869</td>\n",
       "      <td>Fact check: Trump and Clinton at the 'commande...</td>\n",
       "      <td>Hillary Clinton and Donald Trump made some ina...</td>\n",
       "      <td>REAL</td>\n",
       "    </tr>\n",
       "    <tr>\n",
       "      <th>9</th>\n",
       "      <td>2909</td>\n",
       "      <td>Iran reportedly makes new push for uranium con...</td>\n",
       "      <td>Iranian negotiators reportedly have made a las...</td>\n",
       "      <td>REAL</td>\n",
       "    </tr>\n",
       "  </tbody>\n",
       "</table>\n",
       "</div>"
      ],
      "text/plain": [
       "   Unnamed: 0                                              title  \\\n",
       "0        8476                       You Can Smell Hillary’s Fear   \n",
       "1       10294  Watch The Exact Moment Paul Ryan Committed Pol...   \n",
       "2        3608        Kerry to go to Paris in gesture of sympathy   \n",
       "3       10142  Bernie supporters on Twitter erupt in anger ag...   \n",
       "4         875   The Battle of New York: Why This Primary Matters   \n",
       "5        6903                                        Tehran, USA   \n",
       "6        7341  Girl Horrified At What She Watches Boyfriend D...   \n",
       "7          95                  ‘Britain’s Schindler’ Dies at 106   \n",
       "8        4869  Fact check: Trump and Clinton at the 'commande...   \n",
       "9        2909  Iran reportedly makes new push for uranium con...   \n",
       "\n",
       "                                                text label  \n",
       "0  Daniel Greenfield, a Shillman Journalism Fello...  FAKE  \n",
       "1  Google Pinterest Digg Linkedin Reddit Stumbleu...  FAKE  \n",
       "2  U.S. Secretary of State John F. Kerry said Mon...  REAL  \n",
       "3  — Kaydee King (@KaydeeKing) November 9, 2016 T...  FAKE  \n",
       "4  It's primary day in New York and front-runners...  REAL  \n",
       "5    \\nI’m not an immigrant, but my grandparents ...  FAKE  \n",
       "6  Share This Baylee Luciani (left), Screenshot o...  FAKE  \n",
       "7  A Czech stockbroker who saved more than 650 Je...  REAL  \n",
       "8  Hillary Clinton and Donald Trump made some ina...  REAL  \n",
       "9  Iranian negotiators reportedly have made a las...  REAL  "
      ]
     },
     "execution_count": 8,
     "metadata": {},
     "output_type": "execute_result"
    }
   ],
   "source": [
    "df.head(10)"
   ]
  },
  {
   "cell_type": "code",
   "execution_count": 34,
   "metadata": {},
   "outputs": [
    {
     "data": {
      "text/plain": [
       "0    FAKE\n",
       "1    FAKE\n",
       "2    REAL\n",
       "3    FAKE\n",
       "4    REAL\n",
       "5    FAKE\n",
       "6    FAKE\n",
       "7    REAL\n",
       "8    REAL\n",
       "9    REAL\n",
       "Name: label, dtype: object"
      ]
     },
     "execution_count": 34,
     "metadata": {},
     "output_type": "execute_result"
    }
   ],
   "source": [
    "labels=df.label\n",
    "labels.head(10)"
   ]
  },
  {
   "cell_type": "markdown",
   "metadata": {},
   "source": [
    "### Split Dataset"
   ]
  },
  {
   "cell_type": "code",
   "execution_count": 22,
   "metadata": {},
   "outputs": [],
   "source": [
    "x_train,x_test,y_train,y_test=train_test_split(df['text'], labels, test_size=0.2, random_state=7)"
   ]
  },
  {
   "cell_type": "markdown",
   "metadata": {},
   "source": [
    "### Initialize a TfidfVectorizer "
   ]
  },
  {
   "cell_type": "code",
   "execution_count": 23,
   "metadata": {},
   "outputs": [],
   "source": [
    "tfidf_vectorizer=TfidfVectorizer(stop_words='english', max_df=0.7)"
   ]
  },
  {
   "cell_type": "markdown",
   "metadata": {},
   "source": [
    "###  Fit and transform train set, transform test set "
   ]
  },
  {
   "cell_type": "code",
   "execution_count": 24,
   "metadata": {},
   "outputs": [],
   "source": [
    "tfidf_train=tfidf_vectorizer.fit_transform(x_train) \n",
    "tfidf_test=tfidf_vectorizer.transform(x_test)"
   ]
  },
  {
   "cell_type": "markdown",
   "metadata": {},
   "source": [
    "### Initialize a PassiveAggressiveClassifier"
   ]
  },
  {
   "cell_type": "code",
   "execution_count": 25,
   "metadata": {},
   "outputs": [
    {
     "data": {
      "text/plain": [
       "PassiveAggressiveClassifier(max_iter=50)"
      ]
     },
     "execution_count": 25,
     "metadata": {},
     "output_type": "execute_result"
    }
   ],
   "source": [
    "pac=PassiveAggressiveClassifier(max_iter=50)\n",
    "pac.fit(tfidf_train,y_train)"
   ]
  },
  {
   "cell_type": "markdown",
   "metadata": {},
   "source": [
    "### Predict on the test set and calculate accuracy"
   ]
  },
  {
   "cell_type": "code",
   "execution_count": 36,
   "metadata": {},
   "outputs": [
    {
     "name": "stdout",
     "output_type": "stream",
     "text": [
      "Accuracy: 92.581%\n"
     ]
    }
   ],
   "source": [
    "y_pred=pac.predict(tfidf_test)\n",
    "score=accuracy_score(y_test,y_pred)\n",
    "print(f'Accuracy: {round(score*100,3)}%')"
   ]
  },
  {
   "cell_type": "markdown",
   "metadata": {},
   "source": [
    "### Build confusion matrix"
   ]
  },
  {
   "cell_type": "code",
   "execution_count": 27,
   "metadata": {},
   "outputs": [],
   "source": [
    "cm = confusion_matrix(y_test,y_pred, labels=['FAKE','REAL'])"
   ]
  },
  {
   "cell_type": "code",
   "execution_count": 28,
   "metadata": {},
   "outputs": [],
   "source": [
    "def plot_confusion_matrix(cm, classes,\n",
    "                          normalize=False,\n",
    "                          title='Confusion matrix',\n",
    "                          cmap=plt.cm.Blues):\n",
    "   
    "    plt.imshow(cm, interpolation='nearest', cmap=cmap)\n",
    "    plt.title(title)\n",
    "    plt.colorbar()\n",
    "    tick_marks = np.arange(len(classes))\n",
    "    plt.xticks(tick_marks, classes, rotation=45)\n",
    "    plt.yticks(tick_marks, classes)\n",
    "\n",
    "    if normalize:\n",
    "        cm = cm.astype('float') / cm.sum(axis=1)[:, np.newaxis]\n",
    "        print(\"Normalized confusion matrix\")\n",
    "    else:\n",
    "        print('Confusion matrix, without normalization')\n",
    "\n",
    "    thresh = cm.max() / 2.\n",
    "    for i, j in itertools.product(range(cm.shape[0]), range(cm.shape[1])):\n",
    "        plt.text(j, i, cm[i, j],\n",
    "                 horizontalalignment=\"center\",\n",
    "                 color=\"white\" if cm[i, j] > thresh else \"black\")\n",
    "\n",
    "    plt.tight_layout()\n",
    "    plt.ylabel('True label')\n",
    "    plt.xlabel('Predicted label')"
   ]
  },
  {
   "cell_type": "code",
   "execution_count": 29,
   "metadata": {},
   "outputs": [
    {
     "name": "stdout",
     "output_type": "stream",
     "text": [
      "Confusion matrix, without normalization\n"
     ]
    },
    {
     "data": {
      "image/png": "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\n",
      "text/plain": [
       "<Figure size 432x288 with 2 Axes>"
      ]
     },
     "metadata": {
      "needs_background": "light"
     },
     "output_type": "display_data"
    }
   ],
   "source": [
    "plot_confusion_matrix(cm, classes=['FAKE', 'REAL'])"
   ]
  },
  {
   "cell_type": "code",
   "execution_count": null,
   "metadata": {},
   "outputs": [],
   "source": []
  },
  {
   "cell_type": "code",
   "execution_count": null,
   "metadata": {},
   "outputs": [],
   "source": []
  },
  {
   "cell_type": "code",
   "execution_count": null,
   "metadata": {},
   "outputs": [],
   "source": []
  },
  {
   "cell_type": "code",
   "execution_count": null,
   "metadata": {},
   "outputs": [],
   "source": []
  },
  {
   "cell_type": "code",
   "execution_count": null,
   "metadata": {},
   "outputs": [],
   "source": []
  },
  {
   "cell_type": "code",
   "execution_count": null,
   "metadata": {},
   "outputs": [],
   "source": []
  },
  {
   "cell_type": "code",
   "execution_count": null,
   "metadata": {},
   "outputs": [],
   "source": []
  },
  {
   "cell_type": "code",
   "execution_count": null,
   "metadata": {},
   "outputs": [],
   "source": []
  },
  {
   "cell_type": "code",
   "execution_count": null,
   "metadata": {},
   "outputs": [],
   "source": []
  },
  {
   "cell_type": "code",
   "execution_count": null,
   "metadata": {},
   "outputs": [],
   "source": []
  },
  {
   "cell_type": "code",
   "execution_count": null,
   "metadata": {},
   "outputs": [],
   "source": []
  },
  {
   "cell_type": "code",
   "execution_count": null,
   "metadata": {},
   "outputs": [],
   "source": []
  },
  {
   "cell_type": "code",
   "execution_count": null,
   "metadata": {},
   "outputs": [],
   "source": []
  },
  {
   "cell_type": "code",
   "execution_count": null,
   "metadata": {},
   "outputs": [],
   "source": []
  },
  {
   "cell_type": "code",
   "execution_count": null,
   "metadata": {},
   "outputs": [],
   "source": []
  },
  {
   "cell_type": "code",
   "execution_count": null,
   "metadata": {},
   "outputs": [],
   "source": []
  },
  {
   "cell_type": "code",
   "execution_count": null,
   "metadata": {},
   "outputs": [],
   "source": []
  },
  {
   "cell_type": "code",
   "execution_count": null,
   "metadata": {},
   "outputs": [],
   "source": []
  },
  {
   "cell_type": "code",
   "execution_count": null,
   "metadata": {},
   "outputs": [],
   "source": []
  },
  {
   "cell_type": "code",
   "execution_count": null,
   "metadata": {},
   "outputs": [],
   "source": []
  },
  {
   "cell_type": "code",
   "execution_count": null,
   "metadata": {},
   "outputs": [],
   "source": []
  },
  {
   "cell_type": "code",
   "execution_count": null,
   "metadata": {},
   "outputs": [],
   "source": []
  },
  {
   "cell_type": "code",
   "execution_count": null,
   "metadata": {},
   "outputs": [],
   "source": []
  },
  {
   "cell_type": "code",
   "execution_count": null,
   "metadata": {},
   "outputs": [],
   "source": []
  },
  {
   "cell_type": "code",
   "execution_count": null,
   "metadata": {},
   "outputs": [],
   "source": []
  },
  {
   "cell_type": "code",
   "execution_count": null,
   "metadata": {},
   "outputs": [],
   "source": []
  },
  {
   "cell_type": "code",
   "execution_count": null,
   "metadata": {},
   "outputs": [],
   "source": []
  },
  {
   "cell_type": "code",
   "execution_count": null,
   "metadata": {},
   "outputs": [],
   "source": []
  },
  {
   "cell_type": "code",
   "execution_count": null,
   "metadata": {},
   "outputs": [],
   "source": []
  },
  {
   "cell_type": "code",
   "execution_count": null,
   "metadata": {},
   "outputs": [],
   "source": []
  },
  {
   "cell_type": "code",
   "execution_count": null,
   "metadata": {},
   "outputs": [],
   "source": []
  },
  {
   "cell_type": "code",
   "execution_count": null,
   "metadata": {},
   "outputs": [],
   "source": []
  },
  {
   "cell_type": "code",
   "execution_count": null,
   "metadata": {},
   "outputs": [],
   "source": []
  },
  {
   "cell_type": "code",
   "execution_count": null,
   "metadata": {},
   "outputs": [],
   "source": []
  },
  {
   "cell_type": "code",
   "execution_count": null,
   "metadata": {},
   "outputs": [],
   "source": []
  },
  {
   "cell_type": "code",
   "execution_count": null,
   "metadata": {},
   "outputs": [],
   "source": []
  },
  {
   "cell_type": "code",
   "execution_count": null,
   "metadata": {},
   "outputs": [],
   "source": []
  },
  {
   "cell_type": "code",
   "execution_count": null,
   "metadata": {},
   "outputs": [],
   "source": []
  },
  {
   "cell_type": "code",
   "execution_count": null,
   "metadata": {},
   "outputs": [],
   "source": []
  }
 ],
 "metadata": {
  "kernelspec": {
   "display_name": "Python 3",
   "language": "python",
   "name": "python3"
  },
  "language_info": {
   "codemirror_mode": {
    "name": "ipython",
    "version": 3
   },
   "file_extension": ".py",
   "mimetype": "text/x-python",
   "name": "python",
   "nbconvert_exporter": "python",
   "pygments_lexer": "ipython3",
   "version": "3.8.3"
  }
 },
 "nbformat": 4,
 "nbformat_minor": 4
}
